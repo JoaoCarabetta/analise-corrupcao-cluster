{
 "cells": [
  {
   "cell_type": "markdown",
   "metadata": {},
   "source": [
    "# Clean pe_contratos\n",
    "\n",
    "\n",
    "### Goals\n",
    "- Propose query to clean data\n",
    "- Understand the content of the most important fields\n",
    "- Clean the key rows\n",
    "- Generate insights about possible further research\n",
    "\n",
    "### Query\n",
    "\n",
    "```DROP TABLE IF EXISTS analise_corrupcao_cluster.pe_contratos;\n",
    "CREATE TABLE analise_corrupcao_cluster.pe_contratos AS (\n",
    "SELECT\n",
    "  unidadegestora,\n",
    "  esfera,\n",
    "  municipio,\n",
    "  anocontrato,\n",
    "  cpf_cnpj,\n",
    "  tipodocumento,\n",
    "  numerodocumento,\n",
    "  TRIM(numerodocumentoajustado) numerodocumentoajustado,\n",
    "  razaosocial,\n",
    "  vigencia,\n",
    "  objeto,\n",
    "  valorcontrato,\n",
    "  estagiocontrato,\n",
    "  situacaocontrato,\n",
    "  siglaug,\n",
    "  codigoug,\n",
    "  codigoaudinug,\n",
    "  tipoprocesso,\n",
    "  numeroprocesso,\n",
    "  anoprocesso,\n",
    "  portariacomissaolicitacao,\n",
    "  linkarquivo,\n",
    "  numerocontrato\n",
    "FROM br_gov_despesas_municipais_tce_pe_contratos.contratos\n",
    "WHERE numerodocumentoajustado !~ '[A-Z]+|,');\n",
    "  ```\n",
    "\n",
    "### Results\n",
    "\n",
    " The fields that are most importants, for know, are the key ones **numerodocumentoajustado** and **codigoug** because they are necessary to bind data with different tables.\n",
    " \n",
    " Everything seems normal. The correlation between fields also seem fine.\n",
    " \n",
    " As usual, there are few companies that share most of the contracts. I did not get the proportions, but this is a interesting investigations topic.\n",
    "\n",
    "### Methodology"
   ]
  },
  {
   "cell_type": "code",
   "execution_count": 1,
   "metadata": {},
   "outputs": [
    {
     "name": "stdout",
     "output_type": "stream",
     "text": [
      "Populating the interactive namespace from numpy and matplotlib\n"
     ]
    },
    {
     "name": "stderr",
     "output_type": "stream",
     "text": [
      "/Library/Frameworks/Python.framework/Versions/3.6/lib/python3.6/site-packages/IPython/core/magics/pylab.py:160: UserWarning: pylab import has clobbered these variables: ['copy']\n",
      "`%matplotlib` prevents importing * from pylab and numpy\n",
      "  \"\\n`%matplotlib` prevents importing * from pylab and numpy\"\n"
     ]
    }
   ],
   "source": [
    "from sqlalchemy import create_engine\n",
    "import pandas as pd\n",
    "from pandas_summary import DataFrameSummary\n",
    "import copy\n",
    "import seaborn as sns\n",
    "\n",
    "pd.options.display.max_columns = 999\n",
    "\n",
    "import yaml\n",
    "con_link = yaml.load(open('db_links.yaml', 'r'))['postgre']\n",
    "con = create_engine(con_link)\n",
    "\n",
    "%pylab inline\n",
    "pylab.rcParams['figure.figsize'] = (15, 12)"
   ]
  },
  {
   "cell_type": "markdown",
   "metadata": {},
   "source": [
    "### Count the number of rows"
   ]
  },
  {
   "cell_type": "code",
   "execution_count": 19,
   "metadata": {},
   "outputs": [
    {
     "data": {
      "text/plain": [
       "119841"
      ]
     },
     "execution_count": 19,
     "metadata": {},
     "output_type": "execute_result"
    }
   ],
   "source": [
    "pd.read_sql_query('SELECT COUNT(*) FROM br_gov_despesas_municipais_tce_pe_contratos.contratos', con).values[0][0]"
   ]
  },
  {
   "cell_type": "markdown",
   "metadata": {},
   "source": [
    "### Describe colums"
   ]
  },
  {
   "cell_type": "code",
   "execution_count": 2,
   "metadata": {
    "collapsed": true
   },
   "outputs": [],
   "source": [
    "full = pd.read_sql_query('SELECT * FROM br_gov_despesas_municipais_tce_pe_contratos.contratos', con)"
   ]
  },
  {
   "cell_type": "code",
   "execution_count": 23,
   "metadata": {},
   "outputs": [
    {
     "data": {
      "text/html": [
       "<div>\n",
       "<style>\n",
       "    .dataframe thead tr:only-child th {\n",
       "        text-align: right;\n",
       "    }\n",
       "\n",
       "    .dataframe thead th {\n",
       "        text-align: left;\n",
       "    }\n",
       "\n",
       "    .dataframe tbody tr th {\n",
       "        vertical-align: top;\n",
       "    }\n",
       "</style>\n",
       "<table border=\"1\" class=\"dataframe\">\n",
       "  <thead>\n",
       "    <tr style=\"text-align: right;\">\n",
       "      <th></th>\n",
       "      <th>unidadegestora</th>\n",
       "      <th>esfera</th>\n",
       "      <th>municipio</th>\n",
       "      <th>anocontrato</th>\n",
       "      <th>cpf_cnpj</th>\n",
       "      <th>tipodocumento</th>\n",
       "      <th>numerodocumento</th>\n",
       "      <th>numerodocumentoajustado</th>\n",
       "      <th>razaosocial</th>\n",
       "      <th>vigencia</th>\n",
       "      <th>objeto</th>\n",
       "      <th>valorcontrato</th>\n",
       "      <th>estagiocontrato</th>\n",
       "      <th>situacaocontrato</th>\n",
       "      <th>siglaug</th>\n",
       "      <th>codigoug</th>\n",
       "      <th>codigoefiscoug</th>\n",
       "      <th>codigoaudinug</th>\n",
       "      <th>tipoprocesso</th>\n",
       "      <th>numeroprocesso</th>\n",
       "      <th>anoprocesso</th>\n",
       "      <th>portariacomissaolicitacao</th>\n",
       "      <th>linkarquivo</th>\n",
       "      <th>numerocontrato</th>\n",
       "    </tr>\n",
       "  </thead>\n",
       "  <tbody>\n",
       "    <tr>\n",
       "      <th>0</th>\n",
       "      <td>Tribunal de Contas do Estado de Pernambuco</td>\n",
       "      <td>E</td>\n",
       "      <td>Recife</td>\n",
       "      <td>2010</td>\n",
       "      <td>020.618.434-41</td>\n",
       "      <td>CPF</td>\n",
       "      <td>020.618.434-41</td>\n",
       "      <td>02061843441</td>\n",
       "      <td>MARIA DE FATIMA WAECHTER FINIZOLA             ...</td>\n",
       "      <td>01/12/2010 a 28/02/2011</td>\n",
       "      <td>3.117 CONSULTORIA</td>\n",
       "      <td>24733.33</td>\n",
       "      <td>Fim de Vigência</td>\n",
       "      <td>Regular</td>\n",
       "      <td>TCE/PE</td>\n",
       "      <td>780</td>\n",
       "      <td>020001</td>\n",
       "      <td>999.004</td>\n",
       "      <td>None</td>\n",
       "      <td>None</td>\n",
       "      <td>None</td>\n",
       "      <td>None</td>\n",
       "      <td>None</td>\n",
       "      <td>079</td>\n",
       "    </tr>\n",
       "    <tr>\n",
       "      <th>1</th>\n",
       "      <td>Tribunal de Contas do Estado de Pernambuco</td>\n",
       "      <td>E</td>\n",
       "      <td>Recife</td>\n",
       "      <td>2008</td>\n",
       "      <td>00.028.986/0001-08</td>\n",
       "      <td>CNPJ</td>\n",
       "      <td>00.028.986/0001-08</td>\n",
       "      <td>00028986000108</td>\n",
       "      <td>ELEVADORES ATLAS SCHINDLER S/A                ...</td>\n",
       "      <td>03/12/2008 a 02/12/2009</td>\n",
       "      <td>2.010 MANUTENÇÃO E CONSERVAÇÃO DE BENS IMÓVEIS</td>\n",
       "      <td>24000.00</td>\n",
       "      <td>Fim de Vigência</td>\n",
       "      <td>Regular</td>\n",
       "      <td>TCE/PE</td>\n",
       "      <td>780</td>\n",
       "      <td>020001</td>\n",
       "      <td>999.004</td>\n",
       "      <td>None</td>\n",
       "      <td>None</td>\n",
       "      <td>None</td>\n",
       "      <td>None</td>\n",
       "      <td>None</td>\n",
       "      <td>076</td>\n",
       "    </tr>\n",
       "  </tbody>\n",
       "</table>\n",
       "</div>"
      ],
      "text/plain": [
       "                               unidadegestora esfera  \\\n",
       "0  Tribunal de Contas do Estado de Pernambuco     E    \n",
       "1  Tribunal de Contas do Estado de Pernambuco     E    \n",
       "\n",
       "                        municipio anocontrato            cpf_cnpj  \\\n",
       "0  Recife                                2010      020.618.434-41   \n",
       "1  Recife                                2008  00.028.986/0001-08   \n",
       "\n",
       "  tipodocumento     numerodocumento numerodocumentoajustado  \\\n",
       "0           CPF      020.618.434-41    02061843441            \n",
       "1          CNPJ  00.028.986/0001-08    00028986000108         \n",
       "\n",
       "                                         razaosocial                 vigencia  \\\n",
       "0  MARIA DE FATIMA WAECHTER FINIZOLA             ...  01/12/2010 a 28/02/2011   \n",
       "1  ELEVADORES ATLAS SCHINDLER S/A                ...  03/12/2008 a 02/12/2009   \n",
       "\n",
       "                                           objeto  valorcontrato  \\\n",
       "0                               3.117 CONSULTORIA       24733.33   \n",
       "1  2.010 MANUTENÇÃO E CONSERVAÇÃO DE BENS IMÓVEIS       24000.00   \n",
       "\n",
       "   estagiocontrato situacaocontrato siglaug codigoug codigoefiscoug  \\\n",
       "0  Fim de Vigência          Regular  TCE/PE      780         020001   \n",
       "1  Fim de Vigência          Regular  TCE/PE      780         020001   \n",
       "\n",
       "  codigoaudinug tipoprocesso numeroprocesso anoprocesso  \\\n",
       "0       999.004         None           None        None   \n",
       "1       999.004         None           None        None   \n",
       "\n",
       "  portariacomissaolicitacao linkarquivo numerocontrato  \n",
       "0                      None        None            079  \n",
       "1                      None        None            076  "
      ]
     },
     "execution_count": 23,
     "metadata": {},
     "output_type": "execute_result"
    }
   ],
   "source": [
    "full.head(2)"
   ]
  },
  {
   "cell_type": "code",
   "execution_count": 25,
   "metadata": {},
   "outputs": [
    {
     "name": "stdout",
     "output_type": "stream",
     "text": [
      "<class 'pandas.core.frame.DataFrame'>\n",
      "RangeIndex: 119841 entries, 0 to 119840\n",
      "Data columns (total 24 columns):\n",
      "unidadegestora               119841 non-null object\n",
      "esfera                       119841 non-null object\n",
      "municipio                    119841 non-null object\n",
      "anocontrato                  119841 non-null object\n",
      "cpf_cnpj                     119841 non-null object\n",
      "tipodocumento                119841 non-null object\n",
      "numerodocumento              119841 non-null object\n",
      "numerodocumentoajustado      119841 non-null object\n",
      "razaosocial                  119841 non-null object\n",
      "vigencia                     119841 non-null object\n",
      "objeto                       119841 non-null object\n",
      "valorcontrato                119841 non-null float64\n",
      "estagiocontrato              119841 non-null object\n",
      "situacaocontrato             119841 non-null object\n",
      "siglaug                      115076 non-null object\n",
      "codigoug                     119841 non-null object\n",
      "codigoefiscoug               19110 non-null object\n",
      "codigoaudinug                119841 non-null object\n",
      "tipoprocesso                 85092 non-null object\n",
      "numeroprocesso               85092 non-null object\n",
      "anoprocesso                  85092 non-null object\n",
      "portariacomissaolicitacao    85092 non-null object\n",
      "linkarquivo                  119760 non-null object\n",
      "numerocontrato               119841 non-null object\n",
      "dtypes: float64(1), object(23)\n",
      "memory usage: 21.9+ MB\n"
     ]
    }
   ],
   "source": [
    "full.info()"
   ]
  },
  {
   "cell_type": "code",
   "execution_count": 29,
   "metadata": {
    "collapsed": true
   },
   "outputs": [],
   "source": [
    "full_desc = DataFrameSummary(full)"
   ]
  },
  {
   "cell_type": "code",
   "execution_count": 30,
   "metadata": {},
   "outputs": [
    {
     "data": {
      "text/plain": [
       "categorical    21\n",
       "bool            2\n",
       "numeric         1\n",
       "Name: types, dtype: int64"
      ]
     },
     "execution_count": 30,
     "metadata": {},
     "output_type": "execute_result"
    }
   ],
   "source": [
    "full_desc.columns_types"
   ]
  },
  {
   "cell_type": "code",
   "execution_count": 32,
   "metadata": {
    "scrolled": true
   },
   "outputs": [
    {
     "data": {
      "text/html": [
       "<div>\n",
       "<style>\n",
       "    .dataframe thead tr:only-child th {\n",
       "        text-align: right;\n",
       "    }\n",
       "\n",
       "    .dataframe thead th {\n",
       "        text-align: left;\n",
       "    }\n",
       "\n",
       "    .dataframe tbody tr th {\n",
       "        vertical-align: top;\n",
       "    }\n",
       "</style>\n",
       "<table border=\"1\" class=\"dataframe\">\n",
       "  <thead>\n",
       "    <tr style=\"text-align: right;\">\n",
       "      <th></th>\n",
       "      <th>unidadegestora</th>\n",
       "      <th>esfera</th>\n",
       "      <th>municipio</th>\n",
       "      <th>anocontrato</th>\n",
       "      <th>cpf_cnpj</th>\n",
       "      <th>tipodocumento</th>\n",
       "      <th>numerodocumento</th>\n",
       "      <th>numerodocumentoajustado</th>\n",
       "      <th>razaosocial</th>\n",
       "      <th>vigencia</th>\n",
       "      <th>objeto</th>\n",
       "      <th>valorcontrato</th>\n",
       "      <th>estagiocontrato</th>\n",
       "      <th>situacaocontrato</th>\n",
       "      <th>siglaug</th>\n",
       "      <th>codigoug</th>\n",
       "      <th>codigoefiscoug</th>\n",
       "      <th>codigoaudinug</th>\n",
       "      <th>tipoprocesso</th>\n",
       "      <th>numeroprocesso</th>\n",
       "      <th>anoprocesso</th>\n",
       "      <th>portariacomissaolicitacao</th>\n",
       "      <th>linkarquivo</th>\n",
       "      <th>numerocontrato</th>\n",
       "    </tr>\n",
       "  </thead>\n",
       "  <tbody>\n",
       "    <tr>\n",
       "      <th>counts</th>\n",
       "      <td>119841</td>\n",
       "      <td>119841</td>\n",
       "      <td>119841</td>\n",
       "      <td>119841</td>\n",
       "      <td>119841</td>\n",
       "      <td>119841</td>\n",
       "      <td>119841</td>\n",
       "      <td>119841</td>\n",
       "      <td>119841</td>\n",
       "      <td>119841</td>\n",
       "      <td>119841</td>\n",
       "      <td>119841</td>\n",
       "      <td>119841</td>\n",
       "      <td>119841</td>\n",
       "      <td>115076</td>\n",
       "      <td>119841</td>\n",
       "      <td>19110</td>\n",
       "      <td>119841</td>\n",
       "      <td>85092</td>\n",
       "      <td>85092</td>\n",
       "      <td>85092</td>\n",
       "      <td>85092</td>\n",
       "      <td>119760</td>\n",
       "      <td>119841</td>\n",
       "    </tr>\n",
       "    <tr>\n",
       "      <th>uniques</th>\n",
       "      <td>891</td>\n",
       "      <td>2</td>\n",
       "      <td>184</td>\n",
       "      <td>39</td>\n",
       "      <td>30331</td>\n",
       "      <td>3</td>\n",
       "      <td>30331</td>\n",
       "      <td>30328</td>\n",
       "      <td>37617</td>\n",
       "      <td>33156</td>\n",
       "      <td>280</td>\n",
       "      <td>57651</td>\n",
       "      <td>2</td>\n",
       "      <td>9</td>\n",
       "      <td>520</td>\n",
       "      <td>891</td>\n",
       "      <td>101</td>\n",
       "      <td>891</td>\n",
       "      <td>21</td>\n",
       "      <td>2780</td>\n",
       "      <td>10</td>\n",
       "      <td>1540</td>\n",
       "      <td>119732</td>\n",
       "      <td>5870</td>\n",
       "    </tr>\n",
       "    <tr>\n",
       "      <th>missing</th>\n",
       "      <td>0</td>\n",
       "      <td>0</td>\n",
       "      <td>0</td>\n",
       "      <td>0</td>\n",
       "      <td>0</td>\n",
       "      <td>0</td>\n",
       "      <td>0</td>\n",
       "      <td>0</td>\n",
       "      <td>0</td>\n",
       "      <td>0</td>\n",
       "      <td>0</td>\n",
       "      <td>0</td>\n",
       "      <td>0</td>\n",
       "      <td>0</td>\n",
       "      <td>4765</td>\n",
       "      <td>0</td>\n",
       "      <td>100731</td>\n",
       "      <td>0</td>\n",
       "      <td>34749</td>\n",
       "      <td>34749</td>\n",
       "      <td>34749</td>\n",
       "      <td>34749</td>\n",
       "      <td>81</td>\n",
       "      <td>0</td>\n",
       "    </tr>\n",
       "    <tr>\n",
       "      <th>missing_perc</th>\n",
       "      <td>0%</td>\n",
       "      <td>0%</td>\n",
       "      <td>0%</td>\n",
       "      <td>0%</td>\n",
       "      <td>0%</td>\n",
       "      <td>0%</td>\n",
       "      <td>0%</td>\n",
       "      <td>0%</td>\n",
       "      <td>0%</td>\n",
       "      <td>0%</td>\n",
       "      <td>0%</td>\n",
       "      <td>0%</td>\n",
       "      <td>0%</td>\n",
       "      <td>0%</td>\n",
       "      <td>3.98%</td>\n",
       "      <td>0%</td>\n",
       "      <td>84.05%</td>\n",
       "      <td>0%</td>\n",
       "      <td>29.00%</td>\n",
       "      <td>29.00%</td>\n",
       "      <td>29.00%</td>\n",
       "      <td>29.00%</td>\n",
       "      <td>0.07%</td>\n",
       "      <td>0%</td>\n",
       "    </tr>\n",
       "    <tr>\n",
       "      <th>types</th>\n",
       "      <td>categorical</td>\n",
       "      <td>bool</td>\n",
       "      <td>categorical</td>\n",
       "      <td>categorical</td>\n",
       "      <td>categorical</td>\n",
       "      <td>categorical</td>\n",
       "      <td>categorical</td>\n",
       "      <td>categorical</td>\n",
       "      <td>categorical</td>\n",
       "      <td>categorical</td>\n",
       "      <td>categorical</td>\n",
       "      <td>numeric</td>\n",
       "      <td>bool</td>\n",
       "      <td>categorical</td>\n",
       "      <td>categorical</td>\n",
       "      <td>categorical</td>\n",
       "      <td>categorical</td>\n",
       "      <td>categorical</td>\n",
       "      <td>categorical</td>\n",
       "      <td>categorical</td>\n",
       "      <td>categorical</td>\n",
       "      <td>categorical</td>\n",
       "      <td>categorical</td>\n",
       "      <td>categorical</td>\n",
       "    </tr>\n",
       "  </tbody>\n",
       "</table>\n",
       "</div>"
      ],
      "text/plain": [
       "             unidadegestora  esfera    municipio  anocontrato     cpf_cnpj  \\\n",
       "counts               119841  119841       119841       119841       119841   \n",
       "uniques                 891       2          184           39        30331   \n",
       "missing                   0       0            0            0            0   \n",
       "missing_perc             0%      0%           0%           0%           0%   \n",
       "types           categorical    bool  categorical  categorical  categorical   \n",
       "\n",
       "             tipodocumento numerodocumento numerodocumentoajustado  \\\n",
       "counts              119841          119841                  119841   \n",
       "uniques                  3           30331                   30328   \n",
       "missing                  0               0                       0   \n",
       "missing_perc            0%              0%                      0%   \n",
       "types          categorical     categorical             categorical   \n",
       "\n",
       "              razaosocial     vigencia       objeto valorcontrato  \\\n",
       "counts             119841       119841       119841        119841   \n",
       "uniques             37617        33156          280         57651   \n",
       "missing                 0            0            0             0   \n",
       "missing_perc           0%           0%           0%            0%   \n",
       "types         categorical  categorical  categorical       numeric   \n",
       "\n",
       "             estagiocontrato situacaocontrato      siglaug     codigoug  \\\n",
       "counts                119841           119841       115076       119841   \n",
       "uniques                    2                9          520          891   \n",
       "missing                    0                0         4765            0   \n",
       "missing_perc              0%               0%        3.98%           0%   \n",
       "types                   bool      categorical  categorical  categorical   \n",
       "\n",
       "             codigoefiscoug codigoaudinug tipoprocesso numeroprocesso  \\\n",
       "counts                19110        119841        85092          85092   \n",
       "uniques                 101           891           21           2780   \n",
       "missing              100731             0        34749          34749   \n",
       "missing_perc         84.05%            0%       29.00%         29.00%   \n",
       "types           categorical   categorical  categorical    categorical   \n",
       "\n",
       "              anoprocesso portariacomissaolicitacao  linkarquivo  \\\n",
       "counts              85092                     85092       119760   \n",
       "uniques                10                      1540       119732   \n",
       "missing             34749                     34749           81   \n",
       "missing_perc       29.00%                    29.00%        0.07%   \n",
       "types         categorical               categorical  categorical   \n",
       "\n",
       "             numerocontrato  \n",
       "counts               119841  \n",
       "uniques                5870  \n",
       "missing                   0  \n",
       "missing_perc             0%  \n",
       "types           categorical  "
      ]
     },
     "execution_count": 32,
     "metadata": {},
     "output_type": "execute_result"
    }
   ],
   "source": [
    "full_desc.columns_stats"
   ]
  },
  {
   "cell_type": "markdown",
   "metadata": {},
   "source": [
    "Existem muitos dados faltantes para\n",
    "- tipoprocesso\n",
    "- numeroprocesso\n",
    "- anoprocesso\n",
    "- portatiacomissaolicitacao\n",
    "- codigoug"
   ]
  },
  {
   "cell_type": "code",
   "execution_count": 38,
   "metadata": {
    "collapsed": true
   },
   "outputs": [],
   "source": [
    "full_numeric = copy.deepcopy(full)\n",
    "\n",
    "for col in full.columns:\n",
    "    \n",
    "    full_numeric[col] = full_numeric[col].astype(\"category\").cat.codes"
   ]
  },
  {
   "cell_type": "code",
   "execution_count": 40,
   "metadata": {
    "collapsed": true
   },
   "outputs": [],
   "source": [
    "full_num_desc = DataFrameSummary(full_numeric)"
   ]
  },
  {
   "cell_type": "code",
   "execution_count": 51,
   "metadata": {},
   "outputs": [
    {
     "data": {
      "text/html": [
       "<div>\n",
       "<style>\n",
       "    .dataframe thead tr:only-child th {\n",
       "        text-align: right;\n",
       "    }\n",
       "\n",
       "    .dataframe thead th {\n",
       "        text-align: left;\n",
       "    }\n",
       "\n",
       "    .dataframe tbody tr th {\n",
       "        vertical-align: top;\n",
       "    }\n",
       "</style>\n",
       "<table border=\"1\" class=\"dataframe\">\n",
       "  <thead>\n",
       "    <tr style=\"text-align: right;\">\n",
       "      <th></th>\n",
       "      <th>unidadegestora</th>\n",
       "      <th>esfera</th>\n",
       "      <th>municipio</th>\n",
       "      <th>anocontrato</th>\n",
       "      <th>cpf_cnpj</th>\n",
       "      <th>tipodocumento</th>\n",
       "      <th>numerodocumento</th>\n",
       "      <th>numerodocumentoajustado</th>\n",
       "      <th>razaosocial</th>\n",
       "      <th>vigencia</th>\n",
       "      <th>objeto</th>\n",
       "      <th>valorcontrato</th>\n",
       "      <th>estagiocontrato</th>\n",
       "      <th>situacaocontrato</th>\n",
       "      <th>siglaug</th>\n",
       "      <th>codigoug</th>\n",
       "      <th>codigoefiscoug</th>\n",
       "      <th>codigoaudinug</th>\n",
       "      <th>tipoprocesso</th>\n",
       "      <th>numeroprocesso</th>\n",
       "      <th>anoprocesso</th>\n",
       "      <th>portariacomissaolicitacao</th>\n",
       "      <th>linkarquivo</th>\n",
       "      <th>numerocontrato</th>\n",
       "    </tr>\n",
       "  </thead>\n",
       "  <tbody>\n",
       "    <tr>\n",
       "      <th>0</th>\n",
       "      <td>886</td>\n",
       "      <td>0</td>\n",
       "      <td>129</td>\n",
       "      <td>15</td>\n",
       "      <td>2395</td>\n",
       "      <td>1</td>\n",
       "      <td>2395</td>\n",
       "      <td>1831</td>\n",
       "      <td>24866</td>\n",
       "      <td>1843</td>\n",
       "      <td>264</td>\n",
       "      <td>16369</td>\n",
       "      <td>1</td>\n",
       "      <td>3</td>\n",
       "      <td>513</td>\n",
       "      <td>809</td>\n",
       "      <td>1</td>\n",
       "      <td>779</td>\n",
       "      <td>-1</td>\n",
       "      <td>-1</td>\n",
       "      <td>-1</td>\n",
       "      <td>-1</td>\n",
       "      <td>-1</td>\n",
       "      <td>1185</td>\n",
       "    </tr>\n",
       "    <tr>\n",
       "      <th>1</th>\n",
       "      <td>886</td>\n",
       "      <td>0</td>\n",
       "      <td>129</td>\n",
       "      <td>13</td>\n",
       "      <td>15</td>\n",
       "      <td>0</td>\n",
       "      <td>15</td>\n",
       "      <td>26</td>\n",
       "      <td>10905</td>\n",
       "      <td>4461</td>\n",
       "      <td>107</td>\n",
       "      <td>16068</td>\n",
       "      <td>1</td>\n",
       "      <td>3</td>\n",
       "      <td>513</td>\n",
       "      <td>809</td>\n",
       "      <td>1</td>\n",
       "      <td>779</td>\n",
       "      <td>-1</td>\n",
       "      <td>-1</td>\n",
       "      <td>-1</td>\n",
       "      <td>-1</td>\n",
       "      <td>-1</td>\n",
       "      <td>1178</td>\n",
       "    </tr>\n",
       "  </tbody>\n",
       "</table>\n",
       "</div>"
      ],
      "text/plain": [
       "   unidadegestora  esfera  municipio  anocontrato  cpf_cnpj  tipodocumento  \\\n",
       "0             886       0        129           15      2395              1   \n",
       "1             886       0        129           13        15              0   \n",
       "\n",
       "   numerodocumento  numerodocumentoajustado  razaosocial  vigencia  objeto  \\\n",
       "0             2395                     1831        24866      1843     264   \n",
       "1               15                       26        10905      4461     107   \n",
       "\n",
       "   valorcontrato  estagiocontrato  situacaocontrato  siglaug  codigoug  \\\n",
       "0          16369                1                 3      513       809   \n",
       "1          16068                1                 3      513       809   \n",
       "\n",
       "   codigoefiscoug  codigoaudinug  tipoprocesso  numeroprocesso  anoprocesso  \\\n",
       "0               1            779            -1              -1           -1   \n",
       "1               1            779            -1              -1           -1   \n",
       "\n",
       "   portariacomissaolicitacao  linkarquivo  numerocontrato  \n",
       "0                         -1           -1            1185  \n",
       "1                         -1           -1            1178  "
      ]
     },
     "execution_count": 51,
     "metadata": {},
     "output_type": "execute_result"
    }
   ],
   "source": [
    "full_numeric.head(2)"
   ]
  },
  {
   "cell_type": "code",
   "execution_count": 41,
   "metadata": {},
   "outputs": [
    {
     "data": {
      "text/plain": [
       "numeric    22\n",
       "bool        2\n",
       "Name: types, dtype: int64"
      ]
     },
     "execution_count": 41,
     "metadata": {},
     "output_type": "execute_result"
    }
   ],
   "source": [
    "full_num_desc.columns_types"
   ]
  },
  {
   "cell_type": "code",
   "execution_count": 42,
   "metadata": {
    "scrolled": true
   },
   "outputs": [
    {
     "data": {
      "text/html": [
       "<div>\n",
       "<style>\n",
       "    .dataframe thead tr:only-child th {\n",
       "        text-align: right;\n",
       "    }\n",
       "\n",
       "    .dataframe thead th {\n",
       "        text-align: left;\n",
       "    }\n",
       "\n",
       "    .dataframe tbody tr th {\n",
       "        vertical-align: top;\n",
       "    }\n",
       "</style>\n",
       "<table border=\"1\" class=\"dataframe\">\n",
       "  <thead>\n",
       "    <tr style=\"text-align: right;\">\n",
       "      <th></th>\n",
       "      <th>unidadegestora</th>\n",
       "      <th>esfera</th>\n",
       "      <th>municipio</th>\n",
       "      <th>anocontrato</th>\n",
       "      <th>cpf_cnpj</th>\n",
       "      <th>tipodocumento</th>\n",
       "      <th>numerodocumento</th>\n",
       "      <th>numerodocumentoajustado</th>\n",
       "      <th>razaosocial</th>\n",
       "      <th>vigencia</th>\n",
       "      <th>objeto</th>\n",
       "      <th>valorcontrato</th>\n",
       "      <th>estagiocontrato</th>\n",
       "      <th>situacaocontrato</th>\n",
       "      <th>siglaug</th>\n",
       "      <th>codigoug</th>\n",
       "      <th>codigoefiscoug</th>\n",
       "      <th>codigoaudinug</th>\n",
       "      <th>tipoprocesso</th>\n",
       "      <th>numeroprocesso</th>\n",
       "      <th>anoprocesso</th>\n",
       "      <th>portariacomissaolicitacao</th>\n",
       "      <th>linkarquivo</th>\n",
       "      <th>numerocontrato</th>\n",
       "    </tr>\n",
       "  </thead>\n",
       "  <tbody>\n",
       "    <tr>\n",
       "      <th>counts</th>\n",
       "      <td>119841</td>\n",
       "      <td>119841</td>\n",
       "      <td>119841</td>\n",
       "      <td>119841</td>\n",
       "      <td>119841</td>\n",
       "      <td>119841</td>\n",
       "      <td>119841</td>\n",
       "      <td>119841</td>\n",
       "      <td>119841</td>\n",
       "      <td>119841</td>\n",
       "      <td>119841</td>\n",
       "      <td>119841</td>\n",
       "      <td>119841</td>\n",
       "      <td>119841</td>\n",
       "      <td>119841</td>\n",
       "      <td>119841</td>\n",
       "      <td>119841</td>\n",
       "      <td>119841</td>\n",
       "      <td>119841</td>\n",
       "      <td>119841</td>\n",
       "      <td>119841</td>\n",
       "      <td>119841</td>\n",
       "      <td>119841</td>\n",
       "      <td>119841</td>\n",
       "    </tr>\n",
       "    <tr>\n",
       "      <th>uniques</th>\n",
       "      <td>891</td>\n",
       "      <td>2</td>\n",
       "      <td>184</td>\n",
       "      <td>39</td>\n",
       "      <td>30331</td>\n",
       "      <td>3</td>\n",
       "      <td>30331</td>\n",
       "      <td>30328</td>\n",
       "      <td>37617</td>\n",
       "      <td>33156</td>\n",
       "      <td>280</td>\n",
       "      <td>57651</td>\n",
       "      <td>2</td>\n",
       "      <td>9</td>\n",
       "      <td>521</td>\n",
       "      <td>891</td>\n",
       "      <td>102</td>\n",
       "      <td>891</td>\n",
       "      <td>22</td>\n",
       "      <td>2781</td>\n",
       "      <td>11</td>\n",
       "      <td>1541</td>\n",
       "      <td>119733</td>\n",
       "      <td>5870</td>\n",
       "    </tr>\n",
       "    <tr>\n",
       "      <th>missing</th>\n",
       "      <td>0</td>\n",
       "      <td>0</td>\n",
       "      <td>0</td>\n",
       "      <td>0</td>\n",
       "      <td>0</td>\n",
       "      <td>0</td>\n",
       "      <td>0</td>\n",
       "      <td>0</td>\n",
       "      <td>0</td>\n",
       "      <td>0</td>\n",
       "      <td>0</td>\n",
       "      <td>0</td>\n",
       "      <td>0</td>\n",
       "      <td>0</td>\n",
       "      <td>0</td>\n",
       "      <td>0</td>\n",
       "      <td>0</td>\n",
       "      <td>0</td>\n",
       "      <td>0</td>\n",
       "      <td>0</td>\n",
       "      <td>0</td>\n",
       "      <td>0</td>\n",
       "      <td>0</td>\n",
       "      <td>0</td>\n",
       "    </tr>\n",
       "    <tr>\n",
       "      <th>missing_perc</th>\n",
       "      <td>0%</td>\n",
       "      <td>0%</td>\n",
       "      <td>0%</td>\n",
       "      <td>0%</td>\n",
       "      <td>0%</td>\n",
       "      <td>0%</td>\n",
       "      <td>0%</td>\n",
       "      <td>0%</td>\n",
       "      <td>0%</td>\n",
       "      <td>0%</td>\n",
       "      <td>0%</td>\n",
       "      <td>0%</td>\n",
       "      <td>0%</td>\n",
       "      <td>0%</td>\n",
       "      <td>0%</td>\n",
       "      <td>0%</td>\n",
       "      <td>0%</td>\n",
       "      <td>0%</td>\n",
       "      <td>0%</td>\n",
       "      <td>0%</td>\n",
       "      <td>0%</td>\n",
       "      <td>0%</td>\n",
       "      <td>0%</td>\n",
       "      <td>0%</td>\n",
       "    </tr>\n",
       "    <tr>\n",
       "      <th>types</th>\n",
       "      <td>numeric</td>\n",
       "      <td>bool</td>\n",
       "      <td>numeric</td>\n",
       "      <td>numeric</td>\n",
       "      <td>numeric</td>\n",
       "      <td>numeric</td>\n",
       "      <td>numeric</td>\n",
       "      <td>numeric</td>\n",
       "      <td>numeric</td>\n",
       "      <td>numeric</td>\n",
       "      <td>numeric</td>\n",
       "      <td>numeric</td>\n",
       "      <td>bool</td>\n",
       "      <td>numeric</td>\n",
       "      <td>numeric</td>\n",
       "      <td>numeric</td>\n",
       "      <td>numeric</td>\n",
       "      <td>numeric</td>\n",
       "      <td>numeric</td>\n",
       "      <td>numeric</td>\n",
       "      <td>numeric</td>\n",
       "      <td>numeric</td>\n",
       "      <td>numeric</td>\n",
       "      <td>numeric</td>\n",
       "    </tr>\n",
       "  </tbody>\n",
       "</table>\n",
       "</div>"
      ],
      "text/plain": [
       "             unidadegestora  esfera municipio anocontrato cpf_cnpj  \\\n",
       "counts               119841  119841    119841      119841   119841   \n",
       "uniques                 891       2       184          39    30331   \n",
       "missing                   0       0         0           0        0   \n",
       "missing_perc             0%      0%        0%          0%       0%   \n",
       "types               numeric    bool   numeric     numeric  numeric   \n",
       "\n",
       "             tipodocumento numerodocumento numerodocumentoajustado  \\\n",
       "counts              119841          119841                  119841   \n",
       "uniques                  3           30331                   30328   \n",
       "missing                  0               0                       0   \n",
       "missing_perc            0%              0%                      0%   \n",
       "types              numeric         numeric                 numeric   \n",
       "\n",
       "             razaosocial vigencia   objeto valorcontrato estagiocontrato  \\\n",
       "counts            119841   119841   119841        119841          119841   \n",
       "uniques            37617    33156      280         57651               2   \n",
       "missing                0        0        0             0               0   \n",
       "missing_perc          0%       0%       0%            0%              0%   \n",
       "types            numeric  numeric  numeric       numeric            bool   \n",
       "\n",
       "             situacaocontrato  siglaug codigoug codigoefiscoug codigoaudinug  \\\n",
       "counts                 119841   119841   119841         119841        119841   \n",
       "uniques                     9      521      891            102           891   \n",
       "missing                     0        0        0              0             0   \n",
       "missing_perc               0%       0%       0%             0%            0%   \n",
       "types                 numeric  numeric  numeric        numeric       numeric   \n",
       "\n",
       "             tipoprocesso numeroprocesso anoprocesso  \\\n",
       "counts             119841         119841      119841   \n",
       "uniques                22           2781          11   \n",
       "missing                 0              0           0   \n",
       "missing_perc           0%             0%          0%   \n",
       "types             numeric        numeric     numeric   \n",
       "\n",
       "             portariacomissaolicitacao linkarquivo numerocontrato  \n",
       "counts                          119841      119841         119841  \n",
       "uniques                           1541      119733           5870  \n",
       "missing                              0           0              0  \n",
       "missing_perc                        0%          0%             0%  \n",
       "types                          numeric     numeric        numeric  "
      ]
     },
     "execution_count": 42,
     "metadata": {},
     "output_type": "execute_result"
    }
   ],
   "source": [
    "full_num_desc.columns_stats"
   ]
  },
  {
   "cell_type": "code",
   "execution_count": 61,
   "metadata": {},
   "outputs": [
    {
     "data": {
      "text/plain": [
       "<matplotlib.axes._subplots.AxesSubplot at 0x11dec8160>"
      ]
     },
     "execution_count": 61,
     "metadata": {},
     "output_type": "execute_result"
    },
    {
     "data": {
      "image/png": "[encoded data removed]",
      "text/plain": [
       "<matplotlib.figure.Figure at 0x1209e3438>"
      ]
     },
     "metadata": {},
     "output_type": "display_data"
    }
   ],
   "source": [
    "cmap = sns.diverging_palette(220, 10, as_cmap=True)\n",
    "corr = full_numeric.corr()\n",
    "sns.heatmap(corr, cmap=cmap,  center=0,\n",
    "            square=True, linewidths=.5, cbar_kws={\"shrink\": .5})"
   ]
  },
  {
   "cell_type": "code",
   "execution_count": 86,
   "metadata": {},
   "outputs": [
    {
     "data": {
      "text/plain": [
       "cpf_cnpj         numerodocumento              1.000000\n",
       "numerodocumento  numerodocumentoajustado      0.999336\n",
       "cpf_cnpj         numerodocumentoajustado      0.999336\n",
       "codigoug         linkarquivo                  0.988070\n",
       "tipoprocesso     anoprocesso                  0.856021\n",
       "municipio        codigoaudinug                0.833796\n",
       "esfera           codigoefiscoug               0.766711\n",
       "                 codigoaudinug                0.639923\n",
       "tipoprocesso     numeroprocesso               0.586570\n",
       "                 portariacomissaolicitacao    0.563510\n",
       "anoprocesso      portariacomissaolicitacao    0.512240\n",
       "numeroprocesso   anoprocesso                  0.507287\n",
       "codigoefiscoug   codigoaudinug                0.492244\n",
       "tipodocumento    valorcontrato                0.486471\n",
       "anocontrato      anoprocesso                  0.485621\n",
       "dtype: float64"
      ]
     },
     "execution_count": 86,
     "metadata": {},
     "output_type": "execute_result"
    }
   ],
   "source": [
    "a = corr.abs()\n",
    "\n",
    "os = (a.where(np.triu(np.ones(a.shape), k=1).astype(np.bool)).stack()).sort_values(ascending=False)\n",
    "os.head(15)"
   ]
  },
  {
   "cell_type": "markdown",
   "metadata": {},
   "source": [
    "As correlações mais relevantes são esperadas.\n",
    "\n",
    "- Relacionadas ao documento: CPF_CNPJ/ numerodocumentoajustado\n",
    "- UG do processo e key fields: codigoug/linkarquivo, municipio/codigoaudinug ...\n",
    "- Ano do processo e key fields: codigoefiscoug/codigoaudinug, ...\n",
    "\n",
    "Interessante notar que o valor do contrato (valorcontrato) tem uma correlação negativa com o tipodocumento e tipoprocesso."
   ]
  },
  {
   "cell_type": "markdown",
   "metadata": {},
   "source": [
    "### numerodocumentoajustado"
   ]
  },
  {
   "cell_type": "code",
   "execution_count": 88,
   "metadata": {},
   "outputs": [
    {
     "data": {
      "text/plain": [
       "top             08778201000126      : 586\n",
       "counts                             119841\n",
       "uniques                             30328\n",
       "missing                                 0\n",
       "missing_perc                           0%\n",
       "types                         categorical\n",
       "Name: numerodocumentoajustado, dtype: object"
      ]
     },
     "execution_count": 88,
     "metadata": {},
     "output_type": "execute_result"
    }
   ],
   "source": [
    "full_desc['numerodocumentoajustado']"
   ]
  },
  {
   "cell_type": "code",
   "execution_count": 3,
   "metadata": {
    "collapsed": true
   },
   "outputs": [],
   "source": [
    "a = []\n",
    "def to_int(x):\n",
    "    \n",
    "    try:\n",
    "        return int(x)\n",
    "    except:\n",
    "        a.append(x)\n",
    "        return None\n",
    "\n",
    "full['numerodocumentoajustado'] = full['numerodocumentoajustado'].apply(to_int)"
   ]
  },
  {
   "cell_type": "code",
   "execution_count": 5,
   "metadata": {},
   "outputs": [
    {
     "data": {
      "text/plain": [
       "['OAB: 13136          ',\n",
       " 'OAB 019056DPE       ',\n",
       " '4579380 SSPPE       ',\n",
       " 'CREA PE 37220 TD    ',\n",
       " 'CC 1032412447       ',\n",
       " 'OABPE 33650         ',\n",
       " 'OABPE 15972         ',\n",
       " '4579380 SSPPE       ',\n",
       " '6,164,936           ',\n",
       " 'CRP0215070          ',\n",
       " '26504D              ',\n",
       " '1565068 SDS PE      ',\n",
       " '13BF72939           ',\n",
       " 'OAB 11313PE         ']"
      ]
     },
     "execution_count": 5,
     "metadata": {},
     "output_type": "execute_result"
    }
   ],
   "source": [
    "a"
   ]
  },
  {
   "cell_type": "code",
   "execution_count": 8,
   "metadata": {},
   "outputs": [
    {
     "data": {
      "text/plain": [
       "14"
      ]
     },
     "execution_count": 8,
     "metadata": {},
     "output_type": "execute_result"
    }
   ],
   "source": [
    "len(a)"
   ]
  },
  {
   "cell_type": "code",
   "execution_count": 21,
   "metadata": {
    "collapsed": true
   },
   "outputs": [],
   "source": [
    "doc = pd.read_sql_query(\"\"\"\n",
    "        SELECT *\n",
    "        FROM br_gov_despesas_municipais_tce_pe_contratos.contratos\n",
    "        WHERE numerodocumentoajustado ~ '\\d+'\"\"\", con)"
   ]
  },
  {
   "cell_type": "code",
   "execution_count": 22,
   "metadata": {
    "collapsed": true
   },
   "outputs": [],
   "source": [
    "a = []\n",
    "def to_int(x):\n",
    "    \n",
    "    try:\n",
    "        return int(x)\n",
    "    except:\n",
    "        a.append(x)\n",
    "        return None\n",
    "\n",
    "\n",
    "doc['numerodocumentoajustado'] = doc['numerodocumentoajustado'].apply(to_int)"
   ]
  },
  {
   "cell_type": "code",
   "execution_count": null,
   "metadata": {
    "collapsed": true
   },
   "outputs": [],
   "source": []
  },
  {
   "cell_type": "code",
   "execution_count": null,
   "metadata": {
    "collapsed": true
   },
   "outputs": [],
   "source": []
  },
  {
   "cell_type": "code",
   "execution_count": null,
   "metadata": {
    "collapsed": true
   },
   "outputs": [],
   "source": []
  },
  {
   "cell_type": "markdown",
   "metadata": {},
   "source": [
    "Somente 14 entradas do numerodocumentoajustado não são transformáveis em inteiros que são relaciondos ao CPF."
   ]
  },
  {
   "cell_type": "code",
   "execution_count": 107,
   "metadata": {},
   "outputs": [
    {
     "data": {
      "text/plain": [
       "<matplotlib.axes._subplots.AxesSubplot at 0x129e152b0>"
      ]
     },
     "execution_count": 107,
     "metadata": {},
     "output_type": "execute_result"
    },
    {
     "data": {
      "image/png": "[encoded data removed]",
      "text/plain": [
       "<matplotlib.figure.Figure at 0x125116b00>"
      ]
     },
     "metadata": {},
     "output_type": "display_data"
    }
   ],
   "source": [
    "full['numerodocumentoajustado'].hist()"
   ]
  },
  {
   "cell_type": "code",
   "execution_count": 16,
   "metadata": {},
   "outputs": [
    {
     "data": {
      "text/plain": [
       "<matplotlib.axes._subplots.AxesSubplot at 0x1154c7d30>"
      ]
     },
     "execution_count": 16,
     "metadata": {},
     "output_type": "execute_result"
    },
    {
     "data": {
      "image/png": "[encoded data removed]",
      "text/plain": [
       "<matplotlib.figure.Figure at 0x1154c7630>"
      ]
     },
     "metadata": {},
     "output_type": "display_data"
    }
   ],
   "source": [
    "full.groupby('numerodocumentoajustado').count()['esfera'].sort_values(ascending=False).iloc[0:100].plot(kind='bar')"
   ]
  },
  {
   "cell_type": "markdown",
   "metadata": {},
   "source": [
    "### codigoug"
   ]
  },
  {
   "cell_type": "code",
   "execution_count": 10,
   "metadata": {
    "collapsed": true
   },
   "outputs": [],
   "source": [
    "a = []\n",
    "def to_int(x):\n",
    "    \n",
    "    try:\n",
    "        return int(x)\n",
    "    except:\n",
    "        a.append(x)\n",
    "        return None\n",
    "\n",
    "full['codigoug'] = full['codigoug'].apply(to_int)"
   ]
  },
  {
   "cell_type": "code",
   "execution_count": 11,
   "metadata": {},
   "outputs": [
    {
     "name": "stdout",
     "output_type": "stream",
     "text": [
      "<class 'pandas.core.frame.DataFrame'>\n",
      "RangeIndex: 119841 entries, 0 to 119840\n",
      "Data columns (total 24 columns):\n",
      "unidadegestora               119841 non-null object\n",
      "esfera                       119841 non-null object\n",
      "municipio                    119841 non-null object\n",
      "anocontrato                  119841 non-null object\n",
      "cpf_cnpj                     119841 non-null object\n",
      "tipodocumento                119841 non-null object\n",
      "numerodocumento              119841 non-null object\n",
      "numerodocumentoajustado      119827 non-null float64\n",
      "razaosocial                  119841 non-null object\n",
      "vigencia                     119841 non-null object\n",
      "objeto                       119841 non-null object\n",
      "valorcontrato                119841 non-null float64\n",
      "estagiocontrato              119841 non-null object\n",
      "situacaocontrato             119841 non-null object\n",
      "siglaug                      115076 non-null object\n",
      "codigoug                     119841 non-null int64\n",
      "codigoefiscoug               19110 non-null object\n",
      "codigoaudinug                119841 non-null object\n",
      "tipoprocesso                 85092 non-null object\n",
      "numeroprocesso               85092 non-null object\n",
      "anoprocesso                  85092 non-null object\n",
      "portariacomissaolicitacao    85092 non-null object\n",
      "linkarquivo                  119760 non-null object\n",
      "numerocontrato               119841 non-null object\n",
      "dtypes: float64(2), int64(1), object(21)\n",
      "memory usage: 21.9+ MB\n"
     ]
    }
   ],
   "source": [
    "full.info()"
   ]
  },
  {
   "cell_type": "code",
   "execution_count": 12,
   "metadata": {},
   "outputs": [
    {
     "data": {
      "text/plain": [
       "<matplotlib.axes._subplots.AxesSubplot at 0x11d6f0438>"
      ]
     },
     "execution_count": 12,
     "metadata": {},
     "output_type": "execute_result"
    },
    {
     "data": {
      "image/png": "[encoded data removed]",
      "text/plain": [
       "<matplotlib.figure.Figure at 0x11d6fc7b8>"
      ]
     },
     "metadata": {},
     "output_type": "display_data"
    }
   ],
   "source": [
    "full['codigoug'].hist()"
   ]
  },
  {
   "cell_type": "code",
   "execution_count": 18,
   "metadata": {},
   "outputs": [
    {
     "data": {
      "text/plain": [
       "codigoug\n",
       "109     2371\n",
       "1045    2262\n",
       "504     2182\n",
       "838     2165\n",
       "128     1801\n",
       "708     1593\n",
       "363     1520\n",
       "293     1515\n",
       "360     1267\n",
       "158     1201\n",
       "802     1140\n",
       "471     1090\n",
       "166     1081\n",
       "84      1044\n",
       "727     1000\n",
       "66       967\n",
       "591      967\n",
       "611      925\n",
       "130      907\n",
       "235      851\n",
       "Name: esfera, dtype: int64"
      ]
     },
     "execution_count": 18,
     "metadata": {},
     "output_type": "execute_result"
    }
   ],
   "source": [
    "full.groupby('codigoug').count()['esfera'].sort_values(ascending=False).head(20)"
   ]
  },
  {
   "cell_type": "code",
   "execution_count": null,
   "metadata": {
    "collapsed": true
   },
   "outputs": [],
   "source": []
  }
 ],
 "metadata": {
  "kernelspec": {
   "display_name": "Python 3",
   "language": "python",
   "name": "python3"
  },
  "language_info": {
   "codemirror_mode": {
    "name": "ipython",
    "version": 3
   },
   "file_extension": ".py",
   "mimetype": "text/x-python",
   "name": "python",
   "nbconvert_exporter": "python",
   "pygments_lexer": "ipython3",
   "version": "3.5.2"
  }
 },
 "nbformat": 4,
 "nbformat_minor": 2
}
